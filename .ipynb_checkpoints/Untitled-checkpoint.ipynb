{
 "cells": [
  {
   "cell_type": "code",
   "execution_count": 17,
   "metadata": {},
   "outputs": [],
   "source": [
    "import numpy as np"
   ]
  },
  {
   "cell_type": "code",
   "execution_count": 45,
   "metadata": {},
   "outputs": [],
   "source": [
    "class GameState (object):\n",
    "    def __init__ (self, board=np.zeros(9, dtype=np.int8), player=1):\n",
    "        self.board =  board\n",
    "        self.player = player\n",
    "\n",
    "    def get_legal_actions(self):\n",
    "        actions = []\n",
    "        if not self.is_game_over():\n",
    "            actions, = np.where(self.board==0)\n",
    "        return actions\n",
    "\n",
    "    def is_game_over(self):\n",
    "        # check if board is full\n",
    "        if 0 not in self.board:\n",
    "            return True\n",
    "        # check if anyone won\n",
    "        elif self.game_result() != 0:\n",
    "            return True\n",
    "        return False\n",
    "    \n",
    "    def game_result(self):\n",
    "        board = self.board.reshape((3,3))\n",
    "        # check rows\n",
    "        for i in range(3):\n",
    "            value = int(np.sum(board[i,:])/3)\n",
    "            if np.absolute(value) == 1:\n",
    "                return value         \n",
    "        # check columns\n",
    "        for i in range(3):\n",
    "            value = int(np.sum(board[:,i])/3)\n",
    "            if np.absolute(value) == 1:\n",
    "                return value    \n",
    "        # check diagonal 1\n",
    "        value = int((board[0][0] + board[1][1] + board[2][3])/3)\n",
    "        if np.absolute(value) == 1:\n",
    "            return value\n",
    "        # check diagonal 2\n",
    "        value = int((board[0][2] + board[1][1] + board[2][0])/3)\n",
    "        if np.absolute(value) == 1:\n",
    "            return value\n",
    "        # otherwise nobody won\n",
    "        return 0\n",
    "\n",
    "#     def game_result(self):\n",
    "#         board = self.board.reshape((3,3))\n",
    "#         # check rows\n",
    "#         for i in range(3):\n",
    "#             value = np.sum(board[i,:])\n",
    "#             if value == 3:\n",
    "#                 return 1\n",
    "#             elif value == -3:\n",
    "#                 return -1\n",
    "#         # check columns\n",
    "#         for i in range(3):\n",
    "#             value = np.sum(board[:,i])\n",
    "#             if value == 3:\n",
    "#                 return 1\n",
    "#             elif value == -3:\n",
    "#                 return -1\n",
    "#         return 0\n",
    "#         # check diagonal 1\n",
    "#         value = board[0][0] + board[1][1] + board[2][3]\n",
    "#         if value == 3:\n",
    "#             return 1\n",
    "#         elif value == -3:\n",
    "#             return -1\n",
    "#         # check diagonal 2\n",
    "#         value = board[0][2] + board[1][1] + board[2][0]\n",
    "#         if value == 3:\n",
    "#             return 1\n",
    "#         elif value == -3:\n",
    "#             return -1\n",
    "#         # otherwise nobody won\n",
    "#         return 0\n",
    "        \n",
    "\n",
    "    def move(self, action):\n",
    "        if action in selg.get_legal_actions():\n",
    "            self.board[action] = player\n",
    "            self.player = -self.player\n",
    "        else:\n",
    "            print(\"ERROR: action passed to move is not legal!\")\n",
    "\n",
    "    def get_board(self):\n",
    "        return self.board\n",
    "\n",
    "    def get_player(self):\n",
    "        return self.player\n",
    "\n",
    "    def __eq__(self, other):\n",
    "        return ((np.array_equal(self.board, other.board)) and (self.player == other.player))\n",
    "\n",
    "    def __ne__(self, other):\n",
    "        return not self.__eq__(other)"
   ]
  },
  {
   "cell_type": "code",
   "execution_count": 46,
   "metadata": {},
   "outputs": [
    {
     "name": "stdout",
     "output_type": "stream",
     "text": [
      "Player: 1\n",
      "[0 0 0 0 0 0 0 0 0]\n",
      "0\n",
      "False\n"
     ]
    }
   ],
   "source": [
    "state = GameState()\n",
    "print('Player: %d' % (state.get_player()))\n",
    "print(state.get_board())\n",
    "print(state.game_result())\n",
    "print(state.is_game_over())"
   ]
  },
  {
   "cell_type": "code",
   "execution_count": 47,
   "metadata": {},
   "outputs": [
    {
     "name": "stdout",
     "output_type": "stream",
     "text": [
      "Player: 1\n",
      "[ 1  1  1 -1  0 -1  0 -1  0]\n",
      "[[ 1  1  1]\n",
      " [-1  0 -1]\n",
      " [ 0 -1  0]]\n"
     ]
    }
   ],
   "source": [
    "board = np.array([1,1,1,-1,0,-1,0,-1,0])\n",
    "state = GameState(board=board)\n",
    "print('Player: %d' % (state.get_player()))\n",
    "print(state.get_board())\n",
    "print(state.get_board().reshape((3,3)))"
   ]
  },
  {
   "cell_type": "code",
   "execution_count": 23,
   "metadata": {},
   "outputs": [
    {
     "name": "stdout",
     "output_type": "stream",
     "text": [
      "[4 6 8]\n"
     ]
    }
   ],
   "source": [
    "print(state.get_legal_actions())"
   ]
  },
  {
   "cell_type": "code",
   "execution_count": 48,
   "metadata": {},
   "outputs": [
    {
     "name": "stdout",
     "output_type": "stream",
     "text": [
      "1\n",
      "True\n"
     ]
    }
   ],
   "source": [
    "print(state.game_result())\n",
    "print(state.is_game_over())"
   ]
  },
  {
   "cell_type": "code",
   "execution_count": 53,
   "metadata": {},
   "outputs": [
    {
     "name": "stdout",
     "output_type": "stream",
     "text": [
      "1\n",
      "0\n",
      "0\n"
     ]
    }
   ],
   "source": [
    "board = state.get_board()\n",
    "board = board.reshape((3,3))\n",
    "# check rows\n",
    "for i in range(3):\n",
    "    value = int(np.sum(board[i,:])/3)\n",
    "    print(np.absolute(value))"
   ]
  },
  {
   "cell_type": "code",
   "execution_count": null,
   "metadata": {},
   "outputs": [],
   "source": []
  }
 ],
 "metadata": {
  "kernelspec": {
   "display_name": "py37",
   "language": "python",
   "name": "py37"
  },
  "language_info": {
   "codemirror_mode": {
    "name": "ipython",
    "version": 3
   },
   "file_extension": ".py",
   "mimetype": "text/x-python",
   "name": "python",
   "nbconvert_exporter": "python",
   "pygments_lexer": "ipython3",
   "version": "3.7.7"
  }
 },
 "nbformat": 4,
 "nbformat_minor": 2
}
